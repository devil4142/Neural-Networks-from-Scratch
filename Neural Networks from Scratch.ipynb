{
 "cells": [
  {
   "cell_type": "markdown",
   "id": "3d03aa69-feca-439a-9884-6f161384d467",
   "metadata": {},
   "source": [
    "# Neural Networks from Scratch by Ajay kumar Mattigunta"
   ]
  },
  {
   "cell_type": "code",
   "execution_count": 9,
   "id": "e03e4330-8aa7-4534-8237-8b9bf77582dd",
   "metadata": {},
   "outputs": [],
   "source": [
    "inputs = [1.2, 5.1, 2.1]\n",
    "weights = [3.1, 2.1, 8.7]\n",
    "bias = 3"
   ]
  },
  {
   "cell_type": "code",
   "execution_count": 10,
   "id": "7c2e9b2c-52f3-4335-a64c-476fd1582e21",
   "metadata": {},
   "outputs": [],
   "source": [
    "import numpy as np \n",
    "import matplotlib.pyplot as plt"
   ]
  },
  {
   "cell_type": "code",
   "execution_count": 14,
   "id": "53a63ede-36c7-4b65-bbbe-639bdef54f14",
   "metadata": {},
   "outputs": [
    {
     "name": "stdout",
     "output_type": "stream",
     "text": [
      "2.3\n"
     ]
    }
   ],
   "source": [
    "output = inputs[0]*weights[0] + inputs[1]*weights[1] + inputs[2]*weights[2] + bias\n",
    "print(output) "
   ]
  },
  {
   "cell_type": "code",
   "execution_count": 15,
   "id": "1d5816c8-43a7-4917-ba6b-93a860c92494",
   "metadata": {},
   "outputs": [
    {
     "name": "stdout",
     "output_type": "stream",
     "text": [
      "4.8\n"
     ]
    }
   ],
   "source": [
    "inputs = [1, 2, 3, 2.5]\n",
    "weights = [0.2, 0.8, -0.5, 1.0]\n",
    "bias = 2\n",
    "\n",
    "output = inputs[0]*weights[0] + inputs[1]*weights[1] + inputs[2]*weights[2] + inputs[3]*weights[3]+ bias\n",
    "print(output) "
   ]
  },
  {
   "cell_type": "code",
   "execution_count": 19,
   "id": "960e8cda-93a1-4e9d-b63d-163845ca1966",
   "metadata": {},
   "outputs": [
    {
     "name": "stdout",
     "output_type": "stream",
     "text": [
      "[4.8, 0.20999999999999996, 3.1449999999999996]\n"
     ]
    }
   ],
   "source": [
    "inputs = [1, 2, 3, 2.5]\n",
    "\n",
    "weights1 = [0.2, 0.8, -0.5, 1.0]\n",
    "weights2 = [0.5, -0.91, 0.26, -0.5]\n",
    "weights3 = [-0.26, -0.27, 0.17, 0.87]\n",
    "\n",
    "bias1 = 2\n",
    "bias2 = 3\n",
    "bias3 = 0.5\n",
    "\n",
    "output = [inputs[0]*weights1[0] + inputs[1]*weights1[1] + inputs[2]*weights1[2] + inputs[3]*weights1[3] + bias1,\n",
    "          inputs[0]*weights2[0] + inputs[1]*weights2[1] + inputs[2]*weights2[2] + inputs[3]*weights2[3] + bias1,\n",
    "          inputs[0]*weights2[0] + inputs[1]*weights3[1] + inputs[2]*weights3[2] + inputs[3]*weights3[3] + bias3]\n",
    "print(output) "
   ]
  },
  {
   "cell_type": "code",
   "execution_count": 21,
   "id": "af287111-517a-4da8-aa1c-eb754cf85e4b",
   "metadata": {},
   "outputs": [
    {
     "name": "stdout",
     "output_type": "stream",
     "text": [
      "-0.35\n",
      "1.2\n"
     ]
    }
   ],
   "source": [
    "inputs = [1, 2, 3, 2.5]\n",
    "\n",
    "weights = [[0.2, 0.8, -0.5, 1.0],\n",
    "           [0.5, -0.91, 0.26, -0.5],\n",
    "           [-0.26, -0.27, 0.17, 0.87]]\n",
    "\n",
    "biases = [2, 3, 0.5]\n",
    "\n",
    "some_value = 0.5 \n",
    "weight = -0.7\n",
    "bias = 0.7 \n",
    "\n",
    "print(some_value*weight) \n",
    "print(some_value+bias)\n"
   ]
  },
  {
   "cell_type": "code",
   "execution_count": 23,
   "id": "0d2505d6-d179-4a5b-a33d-375e2c77b630",
   "metadata": {},
   "outputs": [
    {
     "name": "stdout",
     "output_type": "stream",
     "text": [
      "4.8\n"
     ]
    }
   ],
   "source": [
    "import  numpy as np\n",
    "\n",
    "inputs = [1, 2, 3, 2.5]\n",
    "weights = [0.2, 0.8, -0.5, 1.0]\n",
    "bias = 2 \n",
    "\n",
    "output = np.dot(inputs, weights) + bias \n",
    "print(output)"
   ]
  },
  {
   "cell_type": "code",
   "execution_count": 24,
   "id": "d04670c8-ae96-40d2-b929-362d0e358660",
   "metadata": {},
   "outputs": [
    {
     "name": "stdout",
     "output_type": "stream",
     "text": [
      "[4.8 5.8 3.3]\n"
     ]
    }
   ],
   "source": [
    "import  numpy as np\n",
    "\n",
    "inputs = [1, 2, 3, 2.5]\n",
    "weights = [0.2, 0.8, -0.5, 1.0]\n",
    "bias = [2, 3, 0.5]\n",
    "\n",
    "output = np.dot(inputs, weights) + bias \n",
    "print(output)"
   ]
  },
  {
   "cell_type": "code",
   "execution_count": 28,
   "id": "fcf4ea87-988e-4a43-9fb7-016f9d63baec",
   "metadata": {},
   "outputs": [
    {
     "name": "stdout",
     "output_type": "stream",
     "text": [
      "[4.8   1.21  2.385]\n"
     ]
    }
   ],
   "source": [
    "inputs = [1, 2, 3, 2.5]\n",
    "\n",
    "weights = [[0.2, 0.8, -0.5, 1.0],\n",
    "           [0.5, -0.91, 0.26, -0.5],\n",
    "           [-0.26, -0.27, 0.17, 0.87]]\n",
    "\n",
    "biases = [2, 3, 0.5]\n",
    "\n",
    "output = np.dot(weights, inputs) + biases \n",
    "print(output)"
   ]
  },
  {
   "cell_type": "code",
   "execution_count": 30,
   "id": "a49c6809-2ebc-4701-9ab5-ccd0dbcbfab8",
   "metadata": {},
   "outputs": [
    {
     "name": "stdout",
     "output_type": "stream",
     "text": [
      "[[ 4.8    1.21   2.385]\n",
      " [ 8.9   -1.81   0.2  ]\n",
      " [ 1.41   1.051  0.026]]\n"
     ]
    }
   ],
   "source": [
    "#using batches \n",
    "inputs = [[1, 2, 3, 2.5],\n",
    "          [2.0, 5.0, -1.0, 2.0],\n",
    "          [-1.5, 2.7, 3.3, -0.8]] \n",
    "\n",
    "weights = [[0.2, 0.8, -0.5, 1.0],\n",
    "           [0.5, -0.91, 0.26, -0.5],\n",
    "           [-0.26, -0.27, 0.17, 0.87]]\n",
    "\n",
    "biases = [2, 3, 0.5] \n",
    "\n",
    "output = np.dot(inputs, np.array(weights).T) + biases\n",
    "print(output)"
   ]
  },
  {
   "cell_type": "code",
   "execution_count": 37,
   "id": "b68c5d6c-0323-414a-bab7-359a71935e96",
   "metadata": {},
   "outputs": [
    {
     "name": "stdout",
     "output_type": "stream",
     "text": [
      "[[ 0.5031   0.9377  -2.03875]\n",
      " [ 0.2434  -2.5672  -5.7633 ]\n",
      " [-0.99314  1.43412 -0.35655]]\n"
     ]
    }
   ],
   "source": [
    "#adding another layer let see what happend hear \n",
    "\n",
    "inputs = [[1, 2, 3, 2.5],\n",
    "          [2.0, 5.0, -1.0, 2.0],\n",
    "          [-1.5, 2.7, 3.3, -0.8]] \n",
    "\n",
    "weights = [[0.2, 0.8, -0.5, 1.0],\n",
    "           [0.5, -0.91, 0.26, -0.5],\n",
    "           [-0.26, -0.27, 0.17, 0.87]]\n",
    "\n",
    "biases = [2, 3, 0.5] \n",
    "\n",
    "weights2 = [[0.1, -0.14, 0.5],\n",
    "           [-0.5, 0.12, 0.5],\n",
    "           [-0.44, 0.73, -0.13]] \n",
    "\n",
    "biases2 = [-1, 2, -0.5] \n",
    "\n",
    "layer1_output = np.dot(inputs, np.array(weights).T) + biases\n",
    "\n",
    "layer2_output = np.dot(layer1_output, np.array(weights2).T) + biases2\n",
    "\n",
    "print(layer2_output)"
   ]
  },
  {
   "cell_type": "code",
   "execution_count": 46,
   "id": "5affdab8-61dc-448e-ac56-0c04cd4f830d",
   "metadata": {},
   "outputs": [
    {
     "name": "stdout",
     "output_type": "stream",
     "text": [
      "Collecting nnfs\n",
      "  Downloading nnfs-0.5.1-py3-none-any.whl.metadata (1.7 kB)\n",
      "Requirement already satisfied: numpy in c:\\users\\ajay\\anaconda3\\lib\\site-packages (from nnfs) (1.26.4)\n",
      "Downloading nnfs-0.5.1-py3-none-any.whl (9.1 kB)\n",
      "Installing collected packages: nnfs\n",
      "Successfully installed nnfs-0.5.1\n",
      "Note: you may need to restart the kernel to use updated packages.\n"
     ]
    }
   ],
   "source": [
    "pip install nnfs"
   ]
  },
  {
   "cell_type": "code",
   "execution_count": 45,
   "id": "34cbadee-4e73-491d-b548-433487e7c119",
   "metadata": {},
   "outputs": [
    {
     "name": "stdout",
     "output_type": "stream",
     "text": [
      "[[-0.07239587  0.02721698]\n",
      " [ 0.00023585 -0.01589568]\n",
      " [ 0.06273921  0.17898066]]\n"
     ]
    }
   ],
   "source": [
    "#let's jump into ml terminology \n",
    "\n",
    "import numpy as np\n",
    "\n",
    "np.random.seed(10)\n",
    "\n",
    "X = [[1, 2, 3, 2.5],\n",
    "    [2.0, 5.0, -1.0, 2.0],\n",
    "    [-1.5, 2.7, 3.3, -0.8]]\n",
    "\n",
    "class Layer_Dense:\n",
    "    def __init__(self, n_inputs, n_neurons): \n",
    "        self.weights = 0.10 * np.random.randn(n_inputs, n_neurons)\n",
    "        self.biases = np.zeros((1, n_neurons)) \n",
    "    def forward(self, inputs):\n",
    "        self.output = np.dot(inputs, self.weights) + self.biases\n",
    "\n",
    "layer1 = Layer_Dense (4,5)\n",
    "layer2 = Layer_Dense(5,2)\n",
    "\n",
    "layer1.forward(X) \n",
    "layer2.forward(layer1.output)\n",
    "print(layer2.output)"
   ]
  },
  {
   "cell_type": "code",
   "execution_count": null,
   "id": "1141dbe8-afd9-4ec8-bf07-b7ab402a8a6a",
   "metadata": {},
   "outputs": [],
   "source": [
    "import numpy as np\n",
    "import nnfs \n",
    "nnfs.\n",
    "\n",
    "np.random.seed(10)\n",
    "\n",
    "X = [[1, 2, 3, 2.5],\n",
    "    [2.0, 5.0, -1.0, 2.0],\n",
    "    [-1.5, 2.7, 3.3, -0.8]]\n",
    "\n",
    "class Layer_Dense:\n",
    "    def __init__(self, n_inputs, n_neurons): \n",
    "        self.weights = 0.10 * np.random.randn(n_inputs, n_neurons)\n",
    "        self.biases = np.zeros((1, n_neurons)) \n",
    "    def forward(self, inputs):\n",
    "        self.output = np.dot(inputs, self.weights) + self.biases\n",
    "\n",
    "layer1 = Layer_Dense (4,5)\n",
    "layer2 = Layer_Dense(5,2)\n",
    "\n",
    "layer1.forward(X) \n",
    "layer2.forward(layer1.output)\n",
    "print(layer2.output)"
   ]
  },
  {
   "cell_type": "code",
   "execution_count": null,
   "id": "a3510f29-ac32-4d96-8b08-dbd70641d472",
   "metadata": {},
   "outputs": [],
   "source": [
    "#Activation functions \n",
    "\n",
    "import numpy as np \n",
    "\n",
    "np.random.seed(10) \n",
    "\n",
    "X = [[1, 2, 3, 2.5],\n",
    "    [2.0, 5.0, -1.0, 2.0],\n",
    "    [-1.5, 2.7, 3.3, -0.8]]\n",
    "\n",
    "input = [1, 2, -1, 3.3, 2.7, 1.1, 2.2, \n"
   ]
  },
  {
   "cell_type": "code",
   "execution_count": 47,
   "id": "ce86e63d-a5af-4bfe-b4fc-f71b3696e9f0",
   "metadata": {},
   "outputs": [
    {
     "name": "stdout",
     "output_type": "stream",
     "text": [
      "[121.51041751873483, 3.353484652549023, 10.859062664920513]\n",
      "[0.8952826639572619, 0.024708306782099374, 0.0800090292606387]\n",
      "0.9999999999999999\n"
     ]
    }
   ],
   "source": [
    "import math\n",
    "\n",
    "layer_outputs = [4.8, 1.21, 2.385]\n",
    "\n",
    "E = math.e \n",
    "\n",
    "exp_values = [] \n",
    "\n",
    "for output in layer_outputs:\n",
    "    exp_values.append(E**output) \n",
    "\n",
    "print(exp_values)\n",
    "\n",
    "norm_base = sum(exp_values) \n",
    "norm_values = [] \n",
    "\n",
    "for value in exp_values:\n",
    "    norm_values.append(value / norm_base) \n",
    "\n",
    "print(norm_values) \n",
    "print(sum(norm_values)) \n",
    "\n"
   ]
  },
  {
   "cell_type": "code",
   "execution_count": 48,
   "id": "d1346a4c-c6a7-42e5-bc12-7e6a743fa1a6",
   "metadata": {},
   "outputs": [
    {
     "name": "stdout",
     "output_type": "stream",
     "text": [
      "[0.89528266 0.02470831 0.08000903]\n",
      "0.9999999999999999\n"
     ]
    }
   ],
   "source": [
    "import math\n",
    "import numpy as np\n",
    "import nnfs\n",
    "\n",
    "layer_outputs = [4.8, 1.21, 2.385]\n",
    "\n",
    "E = math.e \n",
    "\n",
    "exp_values = np.exp(layer_outputs)\n",
    "\n",
    "norm_values = exp_values / np.sum(exp_values)\n",
    "\n",
    "\n",
    "print(norm_values) \n",
    "print(sum(norm_values)) "
   ]
  },
  {
   "cell_type": "code",
   "execution_count": 53,
   "id": "d184273c-c76e-4f16-8c90-4f9c1d71a884",
   "metadata": {},
   "outputs": [
    {
     "name": "stdout",
     "output_type": "stream",
     "text": [
      "[[15.11   4.071  2.621]]\n",
      "[[8.95282664e-01 2.47083068e-02 8.00090293e-02]\n",
      " [9.98999345e-01 8.32563422e-04 1.68091656e-04]\n",
      " [5.13097164e-01 3.58333899e-01 1.28568936e-01]]\n"
     ]
    }
   ],
   "source": [
    "import numpy as np\n",
    "import nnfs\n",
    "\n",
    "nnfs.init()\n",
    "\n",
    "layer_outputs = [[4.8, 1.21, 2.385],\n",
    "                 [8.9, 1.81, 0.21],\n",
    "                 [1.41, 1.051, 0.026]]\n",
    "\n",
    "\n",
    "exp_values = np.exp(layer_outputs)\n",
    "\n",
    "print(np.sum(layer_outputs, axis=0, keepdims=True)) \n",
    "\n",
    "norm_values  = exp_values / np.sum(exp_values, axis=1, keepdims=True) \n",
    "print(norm_values)"
   ]
  },
  {
   "cell_type": "code",
   "execution_count": null,
   "id": "9d7e701a-39cc-40f9-bf89-3f7fa3a1a5a1",
   "metadata": {},
   "outputs": [],
   "source": [
    "import numpy as np\n",
    "import nnfs\n",
    "\n",
    "class Layer_Dense:\n",
    "    def __init__(self, n_inputs, n_neurons):\n",
    "        self.weights = 0.10 * np.random(n_inputs, n_neurons)\n",
    "        self.biases = np.zeros((1, n_neurons))\n",
    "    def forward(self, inputs):\n",
    "        self.output = np.dot(inputs, self.weights) + self.biases\n",
    "\n",
    "class Activation_ReLU:\n",
    "    def forward(self, inputs):\n",
    "        self.output = np.maximum(0, inputs)\n",
    "\n",
    "class Activation_softmax:\n",
    "    def froward(self, inputs):\n",
    "        exp_values = np.exp(inputs - np.max(inputs, axis=1, keepdims=True))\n",
    "        probabilities = exp_values / np.sum(exp_values, axis=1, keepdims=True)\n",
    "        self.output = probabilities\n",
    "\n",
    "X, y = spiral_data(samples=100, classes=3) \n",
    "\n",
    "dens1 = Layer_Dense(2, 3) \n",
    "activation1 = Activation_ReLU() \n",
    "\n",
    "dens2 = Layer_Dense(3, 3) \n",
    "activation1 = Activation_softmax() \n",
    "\n",
    "dens1.forward(X)  \n",
    "activation1.forward(dense1.output) \n",
    "\n",
    "dens2.forward(ativation1.output) \n",
    "activation2.forward(dense2.output) \n",
    "\n",
    "print(dens2)\n"
   ]
  },
  {
   "cell_type": "code",
   "execution_count": null,
   "id": "dc94b182-0003-448d-8daa-19309506cba5",
   "metadata": {},
   "outputs": [],
   "source": [
    "import math \n",
    "\n",
    "softmax_output = [0.7, 0.1, 0.2] \n",
    "target_output = [1, 0, 0] \n",
    "\n",
    "loss = .(math. log(softmax_output[0])*target_output[0] + \n",
    "        math. log(softmax_output[1])*target_output[1] + \n",
    "        math. log(softmax_output[2])*target_output[2]) \n",
    "print(loss) \n",
    "loss = .math.log(softmax_output[0]) \n",
    "print(loss)"
   ]
  },
  {
   "cell_type": "code",
   "execution_count": null,
   "id": "7f31b1f4-67c5-4a53-b7cc-2c81af19118d",
   "metadata": {},
   "outputs": [],
   "source": [
    "import numpy as np \n",
    "\n",
    "softmax_outputs = np.array([[0.7, 0.1, 0.2],\n",
    "                            [0.1, 0.5, 0.4], \n",
    "                            [0.02, 0.9, 0.08]]) \n",
    "\n",
    "class_targets = [0, 1, 1] \n",
    "\n",
    "print(np.log(softmax_outputs[[0, 1, 2], [class_targets]]))) \n"
   ]
  },
  {
   "cell_type": "code",
   "execution_count": null,
   "id": "63199bcf-bf5d-4ba3-ac6e-77667e0fe3a5",
   "metadata": {},
   "outputs": [],
   "source": []
  },
  {
   "cell_type": "code",
   "execution_count": null,
   "id": "c9d5ed12-c2bb-42e2-8e85-4f1123de4730",
   "metadata": {},
   "outputs": [],
   "source": []
  },
  {
   "cell_type": "code",
   "execution_count": null,
   "id": "db691a49-4676-4424-b71d-282c8899b153",
   "metadata": {},
   "outputs": [],
   "source": []
  }
 ],
 "metadata": {
  "kernelspec": {
   "display_name": "Python 3 (ipykernel)",
   "language": "python",
   "name": "python3"
  },
  "language_info": {
   "codemirror_mode": {
    "name": "ipython",
    "version": 3
   },
   "file_extension": ".py",
   "mimetype": "text/x-python",
   "name": "python",
   "nbconvert_exporter": "python",
   "pygments_lexer": "ipython3",
   "version": "3.11.7"
  }
 },
 "nbformat": 4,
 "nbformat_minor": 5
}
